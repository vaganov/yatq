{
 "cells": [
  {
   "cell_type": "code",
   "execution_count": null,
   "id": "ad47c9ab-ead9-4a41-b1eb-724c4593184e",
   "metadata": {},
   "outputs": [],
   "source": [
    "%matplotlib inline"
   ]
  },
  {
   "cell_type": "code",
   "execution_count": null,
   "id": "baf6bfc3-5c9b-4abd-820b-cba1e48e0bad",
   "metadata": {},
   "outputs": [],
   "source": [
    "import matplotlib.pyplot as plt"
   ]
  },
  {
   "cell_type": "code",
   "execution_count": null,
   "id": "a6350236-d2e7-4b1c-bbbe-fd9e72143dd8",
   "metadata": {},
   "outputs": [],
   "source": [
    "import numpy as np"
   ]
  },
  {
   "cell_type": "code",
   "execution_count": null,
   "id": "27acdac9-102b-49b6-a095-7f9a792cb82d",
   "metadata": {},
   "outputs": [],
   "source": [
    "from scipy.stats.mstats import winsorize"
   ]
  },
  {
   "cell_type": "code",
   "execution_count": null,
   "id": "7fb3b2af-5bb3-476d-a7f4-1f45954b1ee4",
   "metadata": {},
   "outputs": [],
   "source": [
    "tq_delays = np.fromfile('tq_delays.dat', sep=',')"
   ]
  },
  {
   "cell_type": "code",
   "execution_count": null,
   "id": "8549abfc-5be5-4894-9c8b-b8b360b7954d",
   "metadata": {},
   "outputs": [],
   "source": [
    "tq_delays.min(), tq_delays.max()"
   ]
  },
  {
   "cell_type": "code",
   "execution_count": null,
   "id": "95fbf393-f15f-4532-aa68-b652d0a6597a",
   "metadata": {},
   "outputs": [],
   "source": [
    "tq_delays.mean(), tq_delays.std(ddof=1)"
   ]
  },
  {
   "cell_type": "code",
   "execution_count": null,
   "id": "cdb6ddb2-c85a-4940-9978-1266323afc08",
   "metadata": {},
   "outputs": [],
   "source": [
    "_ = plt.hist(winsorize(tq_delays, limits=(0, 0.01)), bins=100)"
   ]
  },
  {
   "cell_type": "code",
   "execution_count": null,
   "id": "d1c34ac8-2f31-4d05-aaa0-c08b3294f012",
   "metadata": {},
   "outputs": [],
   "source": [
    "cv_delays = np.fromfile('cv_delays.dat', sep=',')"
   ]
  },
  {
   "cell_type": "code",
   "execution_count": null,
   "id": "a4a3b640-b107-4ac8-b47e-9dd4cd61506a",
   "metadata": {},
   "outputs": [],
   "source": [
    "cv_delays.min(), cv_delays.max()"
   ]
  },
  {
   "cell_type": "code",
   "execution_count": null,
   "id": "e3aecce0-c5ad-4214-8255-c0636573a6bb",
   "metadata": {},
   "outputs": [],
   "source": [
    "cv_delays.mean(), cv_delays.std(ddof=1)"
   ]
  },
  {
   "cell_type": "code",
   "execution_count": null,
   "id": "063b7420-6b33-4fe7-8beb-35acae00345d",
   "metadata": {},
   "outputs": [],
   "source": [
    "_ = plt.hist(winsorize(cv_delays, limits=(0, 0.01)), bins=100)"
   ]
  }
 ],
 "metadata": {
 },
 "nbformat": 4,
 "nbformat_minor": 5
}
